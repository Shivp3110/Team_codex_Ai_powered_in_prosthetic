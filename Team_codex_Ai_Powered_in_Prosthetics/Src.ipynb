{
  "cells": [
    {
      "cell_type": "code",
      "source": [
        "pip install pandas"
      ],
      "metadata": {
        "collapsed": true,
        "colab": {
          "base_uri": "https://localhost:8080/"
        },
        "id": "CpI5MuqWogmD",
        "outputId": "31763dd1-f14a-4621-a288-1a372251ab6b"
      },
      "execution_count": 22,
      "outputs": [
        {
          "output_type": "stream",
          "name": "stdout",
          "text": [
            "Requirement already satisfied: pandas in /usr/local/lib/python3.10/dist-packages (2.2.2)\n",
            "Requirement already satisfied: numpy>=1.22.4 in /usr/local/lib/python3.10/dist-packages (from pandas) (1.26.4)\n",
            "Requirement already satisfied: python-dateutil>=2.8.2 in /usr/local/lib/python3.10/dist-packages (from pandas) (2.8.2)\n",
            "Requirement already satisfied: pytz>=2020.1 in /usr/local/lib/python3.10/dist-packages (from pandas) (2024.2)\n",
            "Requirement already satisfied: tzdata>=2022.7 in /usr/local/lib/python3.10/dist-packages (from pandas) (2024.2)\n",
            "Requirement already satisfied: six>=1.5 in /usr/local/lib/python3.10/dist-packages (from python-dateutil>=2.8.2->pandas) (1.16.0)\n"
          ]
        }
      ]
    },
    {
      "cell_type": "code",
      "execution_count": 23,
      "metadata": {
        "id": "0c13de5f68f6",
        "colab": {
          "base_uri": "https://localhost:8080/"
        },
        "outputId": "0b0850d7-9244-44a8-8531-555d517db76d"
      },
      "outputs": [
        {
          "output_type": "stream",
          "name": "stdout",
          "text": [
            "Requirement already satisfied: numpy in /usr/local/lib/python3.10/dist-packages (1.26.4)\n"
          ]
        }
      ],
      "source": [
        "pip install numpy\n"
      ]
    },
    {
      "cell_type": "code",
      "source": [
        "import matplotlib.pyplot as plt\n",
        "import seaborn as sns\n",
        "from sklearn.metrics import confusion_matrix\n",
        "\n",
        "# Confusion Matrix\n",
        "cm = confusion_matrix(y_test, y_pred)\n",
        "plt.figure(figsize=(8, 6))\n",
        "sns.heatmap(cm, annot=True, fmt='d', cmap='Blues', xticklabels=prosthetic_types.values(), yticklabels=prosthetic_types.values())\n",
        "plt.title(\"Confusion Matrix\")\n",
        "plt.xlabel(\"Predicted\")\n",
        "plt.ylabel(\"Actual\")\n",
        "plt.show()\n",
        "\n",
        "# Feature Importance\n",
        "feature_importance = model.feature_importances_\n",
        "features = X.columns\n",
        "\n",
        "plt.figure(figsize=(8, 6))\n",
        "sns.barplot(x=feature_importance, y=features, palette='viridis')\n",
        "plt.title(\"Feature Importance\")\n",
        "plt.xlabel(\"Importance\")\n",
        "plt.ylabel(\"Features\")\n",
        "plt.show()\n"
      ],
      "metadata": {
        "collapsed": true,
        "id": "QkiM9rmcnNDU"
      },
      "execution_count": null,
      "outputs": []
    },
    {
      "cell_type": "code",
      "source": [
        "import sqlite3\n",
        "import pandas as pd\n",
        "import matplotlib.pyplot as plt\n",
        "import seaborn as sns\n",
        "\n",
        "# Step 1: Create SQLite Database and Insert Data\n",
        "conn = sqlite3.connect(\"prosthetics.db\")\n",
        "cursor = conn.cursor()\n",
        "\n",
        "# Create table\n",
        "cursor.execute(\"\"\"\n",
        "CREATE TABLE IF NOT EXISTS ProstheticData (\n",
        "    Age INTEGER,\n",
        "    Activity_Level INTEGER,\n",
        "    Amputation_Type INTEGER,\n",
        "    Prosthetic_Type INTEGER\n",
        ")\n",
        "\"\"\")\n",
        "\n",
        "# Insert sample data\n",
        "data = [\n",
        "    (25, 3, 0, 1),\n",
        "    (45, 2, 1, 2),\n",
        "    (30, 3, 1, 1),\n",
        "    (60, 1, 0, 0),\n",
        "    (50, 1, 0, 0),\n",
        "    (40, 2, 1, 2),\n",
        "    (70, 0, 0, 0),\n",
        "    (35, 3, 1, 1)\n",
        "]\n",
        "cursor.executemany(\"INSERT INTO ProstheticData VALUES (?, ?, ?, ?)\", data)\n",
        "conn.commit()\n",
        "\n",
        "# Step 2: Query Data from SQLite\n",
        "query = \"SELECT * FROM ProstheticData\"\n",
        "df = pd.read_sql_query(query, conn)\n",
        "\n",
        "# Step 3: Visualize Data\n",
        "# Bar chart for Prosthetic Type distribution\n",
        "prosthetic_types = {0: \"Basic\", 1: \"Mechanical\", 2: \"Advanced\"}\n",
        "df['Prosthetic_Type_Name'] = df['Prosthetic_Type'].map(prosthetic_types)\n",
        "\n",
        "plt.figure(figsize=(8, 6))\n",
        "sns.countplot(x='Prosthetic_Type_Name', data=df, palette='viridis')\n",
        "plt.title(\"Distribution of Prosthetic Types\")\n",
        "plt.xlabel(\"Prosthetic Type\")\n",
        "plt.ylabel(\"Count\")\n",
        "plt.show()\n",
        "\n",
        "# Scatter plot of Activity Level vs. Age, colored by Prosthetic Type\n",
        "plt.figure(figsize=(8, 6))\n",
        "sns.scatterplot(x='Age', y='Activity_Level', hue='Prosthetic_Type_Name', data=df, palette='viridis')\n",
        "plt.title(\"Activity Level vs. Age by Prosthetic Type\")\n",
        "plt.xlabel(\"Age\")\n",
        "plt.ylabel(\"Activity Level\")\n",
        "plt.legend(title=\"Prosthetic Type\")\n",
        "plt.show()\n",
        "\n",
        "# Close the connection\n",
        "conn.close()\n"
      ],
      "metadata": {
        "id": "EIJ-RqjNnuez"
      },
      "execution_count": null,
      "outputs": []
    }
  ],
  "metadata": {
    "colab": {
      "name": "Prompting.ipynb",
      "provenance": []
    },
    "google": {
      "image_path": "/static/site-assets/images/docs/logo-python.svg",
      "keywords": [
        "examples",
        "gemini",
        "beginner",
        "googleai",
        "quickstart",
        "python",
        "text",
        "chat",
        "vision",
        "embed"
      ]
    },
    "kernelspec": {
      "display_name": "Python 3",
      "name": "python3"
    }
  },
  "nbformat": 4,
  "nbformat_minor": 0
}